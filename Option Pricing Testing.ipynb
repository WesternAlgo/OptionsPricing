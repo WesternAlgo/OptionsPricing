{
 "cells": [
  {
   "cell_type": "code",
   "execution_count": 1,
   "id": "6d2a18a0-167d-4372-ba6a-6b00018cd7eb",
   "metadata": {},
   "outputs": [
    {
     "name": "stdout",
     "output_type": "stream",
     "text": [
      "Testing this github thing w/ python\n"
     ]
    }
   ],
   "source": [
    "print(\"Testing this github thing w/ python\")"
   ]
  },
  {
   "cell_type": "code",
   "execution_count": null,
   "id": "8b36ed4b-681b-4f15-ae34-fa59682a339e",
   "metadata": {},
   "outputs": [],
   "source": []
  }
 ],
 "metadata": {
  "kernelspec": {
   "display_name": "Python 3",
   "language": "python",
   "name": "python3"
  },
  "language_info": {
   "codemirror_mode": {
    "name": "ipython",
    "version": 3
   },
   "file_extension": ".py",
   "mimetype": "text/x-python",
   "name": "python",
   "nbconvert_exporter": "python",
   "pygments_lexer": "ipython3",
   "version": "3.8.8"
  }
 },
 "nbformat": 4,
 "nbformat_minor": 5
}
